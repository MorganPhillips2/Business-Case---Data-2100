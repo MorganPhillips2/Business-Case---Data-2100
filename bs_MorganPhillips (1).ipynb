{
 "cells": [
  {
   "cell_type": "code",
   "execution_count": 1,
   "id": "6dd441d0",
   "metadata": {},
   "outputs": [
    {
     "name": "stdout",
     "output_type": "stream",
     "text": [
      "           Fname    Lname  CurrSalary  MonthsAtCo                RelToCEO  \\\n",
      "EmpID                                                                       \n",
      "48          Noah    Adams     74000.0          34            nephew/niece   \n",
      "39         Clint  Bennett     96500.0          27                    none   \n",
      "41          Ross  Collins     80800.0           9               ex-spouse   \n",
      "44       Adaline    Drake     90400.0          51          sibling-in-law   \n",
      "45       Harmony   Flores     79200.0          14                    none   \n",
      "50         Tyler   Gordon     83900.0          28                    none   \n",
      "49       Bristol  Johnson     69600.0          18           second cousin   \n",
      "47         Khloe  Morales     70500.0          10  spouse of first cousin   \n",
      "42        Taylor   Morgan     81700.0           7  spouse of third cousin   \n",
      "40       Jackson  Pearson     90400.0          13    step-sibiling-in-law   \n",
      "38          Jack    Perry     87200.0          43                    none   \n",
      "46          Lara  Sanchez     71800.0          30                 sibling   \n",
      "51        Angela  Simmons     83200.0           8              grandchild   \n",
      "43     Everleigh    Young     83300.0          46                    none   \n",
      "\n",
      "                 RoleName  \n",
      "EmpID                      \n",
      "48      Product Manager I  \n",
      "39     Product Manager II  \n",
      "41     Product Manager II  \n",
      "44     Product Manager II  \n",
      "45      Product Manager I  \n",
      "50      Product Manager I  \n",
      "49      Product Manager I  \n",
      "47      Product Manager I  \n",
      "42     Product Manager II  \n",
      "40     Product Manager II  \n",
      "38     Product Manager II  \n",
      "46      Product Manager I  \n",
      "51      Product Manager I  \n",
      "43     Product Manager II  \n"
     ]
    },
    {
     "name": "stderr",
     "output_type": "stream",
     "text": [
      "C:\\Users\\morga\\OneDrive\\anac\\lib\\site-packages\\pandas\\io\\sql.py:761: UserWarning: pandas only support SQLAlchemy connectable(engine/connection) ordatabase string URI or sqlite3 DBAPI2 connectionother DBAPI2 objects are not tested, please consider using SQLAlchemy\n",
      "  warnings.warn(\n"
     ]
    }
   ],
   "source": [
    "#Morgan Phillips\n",
    "\n",
    "import pandas as pd\n",
    "import pyodbc \n",
    "conn = pyodbc.connect('Driver={ODBC Driver 17 for SQL Server};' # Driver\n",
    "                      'Server=stairway.usu.edu;' # Server name\n",
    "                      'Database=dbvachr;' # Database Name\n",
    "                      'UID=dunn2100;' # User ID \n",
    "                      'PWD=databases4ever;' # Password \n",
    "                      'Trusted_Connection=no;')\n",
    "cursor = conn.cursor()  ##connects the server\n",
    "\n",
    "query = \"\"\"SELECT E.EmpID, Fname, Lname, CurrSalary, MonthsAtCo, RelToCEO, RoleName\n",
    "FROM Employee E, EmpRole M, Role R\n",
    "WHERE E.EmpID = M.EmpID AND R.RoleID = M.RoleID AND R.RoleID IN (15,16)\n",
    "ORDER BY 3, 2;\n",
    ";\"\"\"\n",
    "\n",
    "df=pd.read_sql(query, conn, index_col='EmpID')\n",
    "\n",
    "print(df)\n",
    "#seperate queries into sepereate data bases - concate all -same index(primary key) values rep. same person"
   ]
  },
  {
   "cell_type": "code",
   "execution_count": 69,
   "id": "edfedf55",
   "metadata": {},
   "outputs": [],
   "source": [
    "wtDust = 5\n",
    "wtExp = 9\n",
    "wtBonus = 6\n",
    "wtLiked = 7\n",
    "wtTrust = 8\n",
    "wtSoftBall = 3"
   ]
  },
  {
   "cell_type": "code",
   "execution_count": 3,
   "id": "2e5fd8bb",
   "metadata": {},
   "outputs": [
    {
     "name": "stdout",
     "output_type": "stream",
     "text": [
      "        Bonus\n",
      "EmpID        \n",
      "38      837.0\n",
      "39        0.0\n",
      "40      549.0\n",
      "41     1413.0\n",
      "42     1332.0\n",
      "43     1188.0\n",
      "44      549.0\n",
      "45     1557.0\n",
      "46     2223.0\n",
      "47     2340.0\n",
      "48     2025.0\n",
      "49     2421.0\n",
      "50     1134.0\n",
      "51     1197.0\n"
     ]
    },
    {
     "name": "stderr",
     "output_type": "stream",
     "text": [
      "C:\\Users\\morga\\OneDrive\\anac\\lib\\site-packages\\pandas\\io\\sql.py:761: UserWarning: pandas only support SQLAlchemy connectable(engine/connection) ordatabase string URI or sqlite3 DBAPI2 connectionother DBAPI2 objects are not tested, please consider using SQLAlchemy\n",
      "  warnings.warn(\n"
     ]
    }
   ],
   "source": [
    "cursor = conn.cursor()\n",
    "query = \"\"\"SELECT CurrSalary, E.EmpID\n",
    "FROM Employee E, EmpRole M\n",
    "WHERE E.EmpID = M.EmpID AND M.RoleID IN (15,16)\n",
    ";\"\"\"\n",
    "\n",
    "dfbonus=pd.read_sql(query, conn, index_col='EmpID')\n",
    "\n",
    "#dfbonus=dfcs[['EmpID','CurrSalary']]\n",
    "dfbonus['CurrSalary'] = dfbonus['CurrSalary'] *.09\n",
    "\n",
    "dfbonus['CurrSalary'] = dfbonus['CurrSalary'].agg('max') - dfbonus['CurrSalary']\n",
    "dfbonus.rename(columns={'CurrSalary': 'Bonus'}, inplace=True)\n",
    "print(dfbonus)\n",
    "\n",
    "#dfcs['BonusZ'] = (dfbonus['Bonus'] - dfbonus['Bonus'].agg('mean'))/dfbonus['Bonus'].agg('std')\n",
    "#print(dfcs[['EmpID','BonusZ']])"
   ]
  },
  {
   "cell_type": "code",
   "execution_count": 24,
   "id": "efd53993",
   "metadata": {},
   "outputs": [
    {
     "name": "stdout",
     "output_type": "stream",
     "text": [
      "       DustFactor\n",
      "EmpID            \n",
      "38              0\n",
      "39              0\n",
      "40              1\n",
      "41              1\n",
      "42              0\n",
      "43              0\n",
      "44              3\n",
      "45              0\n",
      "46              5\n",
      "47              1\n",
      "48              4\n",
      "49              2\n",
      "50              0\n",
      "51              4\n"
     ]
    },
    {
     "name": "stderr",
     "output_type": "stream",
     "text": [
      "C:\\Users\\morga\\OneDrive\\anac\\lib\\site-packages\\pandas\\io\\sql.py:761: UserWarning: pandas only support SQLAlchemy connectable(engine/connection) ordatabase string URI or sqlite3 DBAPI2 connectionother DBAPI2 objects are not tested, please consider using SQLAlchemy\n",
      "  warnings.warn(\n"
     ]
    }
   ],
   "source": [
    "cursor = conn.cursor()\n",
    "query = \"\"\"SELECT E.EmpID\n",
    "FROM Employee E, EmpRole M\n",
    "WHERE E.EmpID = M.EmpID AND M.RoleID IN (15,16)\n",
    "ORDER BY 1\n",
    ";\"\"\"\n",
    "\n",
    "dfDustF=pd.read_sql(query, conn, index_col='EmpID')\n",
    "#dfDustF2 = dfDust[['EmpID']]\n",
    "dfDustF['DustFactor'] = dfRel['RelToCEO'].replace (['nephew/niece', 'none', 'ex-spouse', 'sibling-in-law','second cousin', 'spouse of first cousin','spouse of third cousin', 'step-sibiling-in-law', 'sibling', 'grandchild'], [4, 0, 1, 3, 2, 1, 0, 1, 5, 4])\n",
    "print(dfDustF)"
   ]
  },
  {
   "cell_type": "code",
   "execution_count": 25,
   "id": "5fa5106a",
   "metadata": {},
   "outputs": [
    {
     "name": "stdout",
     "output_type": "stream",
     "text": [
      "       Votes\n",
      "EmpID       \n",
      "38         3\n",
      "39         1\n",
      "40         8\n",
      "43         4\n",
      "44         5\n",
      "45        25\n",
      "46        33\n",
      "48        19\n",
      "49        12\n",
      "50        19\n"
     ]
    },
    {
     "name": "stderr",
     "output_type": "stream",
     "text": [
      "C:\\Users\\morga\\OneDrive\\anac\\lib\\site-packages\\pandas\\io\\sql.py:761: UserWarning: pandas only support SQLAlchemy connectable(engine/connection) ordatabase string URI or sqlite3 DBAPI2 connectionother DBAPI2 objects are not tested, please consider using SQLAlchemy\n",
      "  warnings.warn(\n"
     ]
    }
   ],
   "source": [
    "cursor = conn.cursor()\n",
    "query = \"\"\"SELECT E.EmpID, COUNT(*) as [Votes]\n",
    "FROM Employee E, PopVote P, EmpRole M, Role R\n",
    "WHERE E.EmpID = P.VoteeID AND E.EmpID = M.EmpID AND R.RoleID = M.RoleID AND R.RoleID IN (15,16)\n",
    "GROUP BY E.EmpID, Lname\n",
    "ORDER BY 1 ;\"\"\"\n",
    "\n",
    "\n",
    "dfVotes=pd.read_sql(query, conn, index_col='EmpID')\n",
    "print(dfVotes)"
   ]
  },
  {
   "cell_type": "code",
   "execution_count": 26,
   "id": "ac2a1bcd",
   "metadata": {},
   "outputs": [
    {
     "name": "stdout",
     "output_type": "stream",
     "text": [
      "       TrustScore\n",
      "EmpID            \n",
      "38           94.0\n",
      "39           37.0\n",
      "40           45.0\n",
      "41           98.0\n",
      "42           46.0\n",
      "43           96.0\n",
      "44           80.0\n",
      "45           63.0\n",
      "46           48.0\n",
      "47           51.0\n",
      "48           85.0\n",
      "49           31.0\n",
      "50           51.0\n",
      "51           71.0\n"
     ]
    },
    {
     "name": "stderr",
     "output_type": "stream",
     "text": [
      "C:\\Users\\morga\\OneDrive\\anac\\lib\\site-packages\\pandas\\io\\sql.py:761: UserWarning: pandas only support SQLAlchemy connectable(engine/connection) ordatabase string URI or sqlite3 DBAPI2 connectionother DBAPI2 objects are not tested, please consider using SQLAlchemy\n",
      "  warnings.warn(\n"
     ]
    }
   ],
   "source": [
    "cursor = conn.cursor()\n",
    "query = \"\"\"SELECT E.EmpID, SUM(Result) AS [Score]\n",
    "FROM Employee E, HREval H, EvalType T, EmpRole M, Role R\n",
    "WHERE E.EmpID = H.EmpID AND H.EvalType = T.ETID AND E.EmpID = M.EmpID AND M.RoleID = R.RoleID AND ETID = 1 and R.RoleID IN (15,16)\n",
    "GROUP BY Lname, E.EmpID\n",
    "ORDER BY EmpID\"\"\"\n",
    "\n",
    "dfTrust = pd.read_sql(query, conn, index_col='EmpID')\n",
    "\n",
    "dfTrust.rename(columns={'Score':'TrustScore'}, inplace=True)\n",
    "\n",
    "print(dfTrust)"
   ]
  },
  {
   "cell_type": "code",
   "execution_count": 35,
   "id": "c73ba8b2",
   "metadata": {},
   "outputs": [
    {
     "name": "stdout",
     "output_type": "stream",
     "text": [
      "       SBWinner\n",
      "EmpID          \n",
      "38          0.0\n",
      "39          1.0\n",
      "40          0.0\n",
      "41          0.0\n",
      "42          0.0\n",
      "43          1.0\n",
      "44          0.0\n",
      "45          0.0\n",
      "46          0.0\n",
      "47          0.0\n",
      "48          0.0\n",
      "49          0.0\n",
      "50          0.0\n",
      "51          0.0\n"
     ]
    },
    {
     "name": "stderr",
     "output_type": "stream",
     "text": [
      "C:\\Users\\morga\\OneDrive\\anac\\lib\\site-packages\\pandas\\io\\sql.py:761: UserWarning: pandas only support SQLAlchemy connectable(engine/connection) ordatabase string URI or sqlite3 DBAPI2 connectionother DBAPI2 objects are not tested, please consider using SQLAlchemy\n",
      "  warnings.warn(\n"
     ]
    }
   ],
   "source": [
    "cursor = conn.cursor()\n",
    "query = \"\"\"SELECT E.EmpID, H.Result\n",
    "FROM Employee E, HREval H, EmpRole M, Role R\n",
    "WHERE E.EmpID = H.EmpID AND E.EmpID = M.EmpID AND M.RoleID = R.RoleID AND H.EvalType = 2  AND M.RoleID IN (15,16) \n",
    "ORDER BY 1;\"\"\"\n",
    "\n",
    "dfSoftB = pd.read_sql(query, conn, index_col='EmpID')\n",
    "dfSoftB.rename(columns={'Result':'SBWinner'}, inplace=True)\n",
    "print(dfSoftB)"
   ]
  },
  {
   "cell_type": "code",
   "execution_count": 42,
   "id": "8a6087f1",
   "metadata": {},
   "outputs": [
    {
     "name": "stdout",
     "output_type": "stream",
     "text": [
      "       Experience\n",
      "EmpID            \n",
      "38              1\n",
      "39              1\n",
      "41              1\n",
      "43              1\n",
      "44              1\n",
      "45              1\n",
      "49              2\n"
     ]
    },
    {
     "name": "stderr",
     "output_type": "stream",
     "text": [
      "C:\\Users\\morga\\OneDrive\\anac\\lib\\site-packages\\pandas\\io\\sql.py:761: UserWarning: pandas only support SQLAlchemy connectable(engine/connection) ordatabase string URI or sqlite3 DBAPI2 connectionother DBAPI2 objects are not tested, please consider using SQLAlchemy\n",
      "  warnings.warn(\n"
     ]
    }
   ],
   "source": [
    "cursor = conn.cursor()\n",
    "query = \"\"\"SELECT E.EmpID, COUNT(I.ProdID) AS [NumProd]\n",
    "FROM Employee E, ProdInv I, EmpRole M, Product P\n",
    "WHERE E.EmpID = I.EmpID AND E.EmpID = M.EmpID AND I.ProdID = P.ProdID AND M.RoleID IN (15,16) AND ProdType IN ('Vac') AND WhenInv IN ('dev')AND ProdName NOT IN ('CozyConey')\n",
    "GROUP BY E.EmpID\n",
    ";\"\"\"\n",
    "\n",
    "dfNumProd = pd.read_sql(query, conn, index_col='EmpID')\n",
    "dfNumProd.rename(columns={'NumProd':'Experience'}, inplace=True)\n",
    "\n",
    "print(dfNumProd)"
   ]
  },
  {
   "cell_type": "code",
   "execution_count": 43,
   "id": "264ca5fe",
   "metadata": {},
   "outputs": [
    {
     "name": "stdout",
     "output_type": "stream",
     "text": [
      "        Bonus  DustFactor\n",
      "EmpID                    \n",
      "38      837.0           0\n",
      "39        0.0           0\n",
      "40      549.0           1\n",
      "41     1413.0           1\n",
      "42     1332.0           0\n",
      "43     1188.0           0\n",
      "44      549.0           3\n",
      "45     1557.0           0\n",
      "46     2223.0           5\n",
      "47     2340.0           1\n",
      "48     2025.0           4\n",
      "49     2421.0           2\n",
      "50     1134.0           0\n",
      "51     1197.0           4\n"
     ]
    }
   ],
   "source": [
    "df2=pd.concat([dfbonus,dfDustF], axis=1)\n",
    "print(df2)\n",
    "\n",
    "##dfSoftB','dfNumProd'"
   ]
  },
  {
   "cell_type": "code",
   "execution_count": 44,
   "id": "eeb0cecc",
   "metadata": {},
   "outputs": [
    {
     "name": "stdout",
     "output_type": "stream",
     "text": [
      "        Bonus  DustFactor  Votes\n",
      "EmpID                           \n",
      "38      837.0           0    3.0\n",
      "39        0.0           0    1.0\n",
      "40      549.0           1    8.0\n",
      "41     1413.0           1    NaN\n",
      "42     1332.0           0    NaN\n",
      "43     1188.0           0    4.0\n",
      "44      549.0           3    5.0\n",
      "45     1557.0           0   25.0\n",
      "46     2223.0           5   33.0\n",
      "47     2340.0           1    NaN\n",
      "48     2025.0           4   19.0\n",
      "49     2421.0           2   12.0\n",
      "50     1134.0           0   19.0\n",
      "51     1197.0           4    NaN\n"
     ]
    }
   ],
   "source": [
    "df3=pd.concat([df2, dfVotes], axis=1)\n",
    "print(df3)"
   ]
  },
  {
   "cell_type": "code",
   "execution_count": 45,
   "id": "3b9b6723",
   "metadata": {},
   "outputs": [
    {
     "name": "stdout",
     "output_type": "stream",
     "text": [
      "        Bonus  DustFactor  Votes  TrustScore\n",
      "EmpID                                       \n",
      "38      837.0           0    3.0        94.0\n",
      "39        0.0           0    1.0        37.0\n",
      "40      549.0           1    8.0        45.0\n",
      "41     1413.0           1    NaN        98.0\n",
      "42     1332.0           0    NaN        46.0\n",
      "43     1188.0           0    4.0        96.0\n",
      "44      549.0           3    5.0        80.0\n",
      "45     1557.0           0   25.0        63.0\n",
      "46     2223.0           5   33.0        48.0\n",
      "47     2340.0           1    NaN        51.0\n",
      "48     2025.0           4   19.0        85.0\n",
      "49     2421.0           2   12.0        31.0\n",
      "50     1134.0           0   19.0        51.0\n",
      "51     1197.0           4    NaN        71.0\n"
     ]
    }
   ],
   "source": [
    "df4=pd.concat([df3, dfTrust], axis=1)\n",
    "print(df4)"
   ]
  },
  {
   "cell_type": "code",
   "execution_count": 46,
   "id": "eea35d1c",
   "metadata": {},
   "outputs": [
    {
     "name": "stdout",
     "output_type": "stream",
     "text": [
      "        Bonus  DustFactor  Votes  TrustScore  SBWinner\n",
      "EmpID                                                 \n",
      "38      837.0           0    3.0        94.0       0.0\n",
      "39        0.0           0    1.0        37.0       1.0\n",
      "40      549.0           1    8.0        45.0       0.0\n",
      "41     1413.0           1    NaN        98.0       0.0\n",
      "42     1332.0           0    NaN        46.0       0.0\n",
      "43     1188.0           0    4.0        96.0       1.0\n",
      "44      549.0           3    5.0        80.0       0.0\n",
      "45     1557.0           0   25.0        63.0       0.0\n",
      "46     2223.0           5   33.0        48.0       0.0\n",
      "47     2340.0           1    NaN        51.0       0.0\n",
      "48     2025.0           4   19.0        85.0       0.0\n",
      "49     2421.0           2   12.0        31.0       0.0\n",
      "50     1134.0           0   19.0        51.0       0.0\n",
      "51     1197.0           4    NaN        71.0       0.0\n"
     ]
    }
   ],
   "source": [
    "df5=pd.concat([df4, dfSoftB], axis=1)\n",
    "print(df5)"
   ]
  },
  {
   "cell_type": "code",
   "execution_count": 47,
   "id": "f3dafe88",
   "metadata": {},
   "outputs": [
    {
     "name": "stdout",
     "output_type": "stream",
     "text": [
      "        Bonus  DustFactor  Votes  TrustScore  SBWinner  Experience\n",
      "EmpID                                                             \n",
      "38      837.0           0    3.0        94.0       0.0         1.0\n",
      "39        0.0           0    1.0        37.0       1.0         1.0\n",
      "40      549.0           1    8.0        45.0       0.0         NaN\n",
      "41     1413.0           1    NaN        98.0       0.0         1.0\n",
      "42     1332.0           0    NaN        46.0       0.0         NaN\n",
      "43     1188.0           0    4.0        96.0       1.0         1.0\n",
      "44      549.0           3    5.0        80.0       0.0         1.0\n",
      "45     1557.0           0   25.0        63.0       0.0         1.0\n",
      "46     2223.0           5   33.0        48.0       0.0         NaN\n",
      "47     2340.0           1    NaN        51.0       0.0         NaN\n",
      "48     2025.0           4   19.0        85.0       0.0         NaN\n",
      "49     2421.0           2   12.0        31.0       0.0         2.0\n",
      "50     1134.0           0   19.0        51.0       0.0         NaN\n",
      "51     1197.0           4    NaN        71.0       0.0         NaN\n"
     ]
    }
   ],
   "source": [
    "df6=pd.concat([df5, dfNumProd], axis=1)\n",
    "print(df6)"
   ]
  },
  {
   "cell_type": "code",
   "execution_count": 49,
   "id": "a410546d",
   "metadata": {},
   "outputs": [
    {
     "name": "stdout",
     "output_type": "stream",
     "text": [
      "        Bonus  DustFactor  Votes  TrustScore  SBWinner  Experience\n",
      "EmpID                                                             \n",
      "38      837.0           0    3.0        94.0       0.0         1.0\n",
      "39        0.0           0    1.0        37.0       1.0         1.0\n",
      "40      549.0           1    8.0        45.0       0.0         0.0\n",
      "41     1413.0           1    0.0        98.0       0.0         1.0\n",
      "42     1332.0           0    0.0        46.0       0.0         0.0\n",
      "43     1188.0           0    4.0        96.0       1.0         1.0\n",
      "44      549.0           3    5.0        80.0       0.0         1.0\n",
      "45     1557.0           0   25.0        63.0       0.0         1.0\n",
      "46     2223.0           5   33.0        48.0       0.0         0.0\n",
      "47     2340.0           1    0.0        51.0       0.0         0.0\n",
      "48     2025.0           4   19.0        85.0       0.0         0.0\n",
      "49     2421.0           2   12.0        31.0       0.0         2.0\n",
      "50     1134.0           0   19.0        51.0       0.0         0.0\n",
      "51     1197.0           4    0.0        71.0       0.0         0.0\n"
     ]
    }
   ],
   "source": [
    "import numpy as np\n",
    "df6.replace(to_replace=np.nan, value=0, inplace=True)\n",
    "print(df6)"
   ]
  },
  {
   "cell_type": "code",
   "execution_count": null,
   "id": "f6eff6b8",
   "metadata": {},
   "outputs": [],
   "source": []
  },
  {
   "cell_type": "code",
   "execution_count": 63,
   "id": "98c733b3",
   "metadata": {},
   "outputs": [
    {
     "name": "stdout",
     "output_type": "stream",
     "text": [
      "        Bonus  DustFactor  Votes  TrustScore  SBWinner  Experience  BonusR\n",
      "EmpID                                                                     \n",
      "38      837.0           0    3.0        94.0       0.0         1.0  1584.0\n",
      "39        0.0           0    1.0        37.0       1.0         1.0  2421.0\n",
      "40      549.0           1    8.0        45.0       0.0         0.0  1872.0\n",
      "41     1413.0           1    0.0        98.0       0.0         1.0  1008.0\n",
      "42     1332.0           0    0.0        46.0       0.0         0.0  1089.0\n",
      "43     1188.0           0    4.0        96.0       1.0         1.0  1233.0\n",
      "44      549.0           3    5.0        80.0       0.0         1.0  1872.0\n",
      "45     1557.0           0   25.0        63.0       0.0         1.0   864.0\n",
      "46     2223.0           5   33.0        48.0       0.0         0.0   198.0\n",
      "47     2340.0           1    0.0        51.0       0.0         0.0    81.0\n",
      "48     2025.0           4   19.0        85.0       0.0         0.0   396.0\n",
      "49     2421.0           2   12.0        31.0       0.0         2.0     0.0\n",
      "50     1134.0           0   19.0        51.0       0.0         0.0  1287.0\n",
      "51     1197.0           4    0.0        71.0       0.0         0.0  1224.0\n"
     ]
    }
   ],
   "source": [
    "df6['BonusR'] = df6['Bonus'].agg('max') - df6['Bonus']\n",
    "print(df6)"
   ]
  },
  {
   "cell_type": "raw",
   "id": "0f275a9b",
   "metadata": {},
   "source": []
  },
  {
   "cell_type": "code",
   "execution_count": 64,
   "id": "6989f3fe",
   "metadata": {},
   "outputs": [
    {
     "name": "stdout",
     "output_type": "stream",
     "text": [
      "         BonusZ  DustFactorZ    VotesZ  TrustScoreZ  SBWinnerZ      ExpZ\n",
      "EmpID                                                                   \n",
      "38     0.693131    -0.839535 -0.577296     1.299913  -0.393398  0.663212\n",
      "39     1.845693    -0.839535 -0.763093    -1.169922   2.360387  0.663212\n",
      "40     1.089711    -0.279845 -0.112805    -0.823278  -0.393398 -0.884282\n",
      "41    -0.100030    -0.279845 -0.855991     1.473235  -0.393398  0.663212\n",
      "42     0.011508    -0.839535 -0.855991    -0.779948  -0.393398 -0.884282\n",
      "43     0.209798    -0.839535 -0.484398     1.386574   2.360387  0.663212\n",
      "44     1.089711     0.839535 -0.391500     0.693287  -0.393398  0.663212\n",
      "45    -0.298321    -0.839535  1.466466    -0.043330  -0.393398  0.663212\n",
      "46    -1.215413     1.958915  2.209652    -0.693287  -0.393398 -0.884282\n",
      "47    -1.376524    -0.279845 -0.855991    -0.563296  -0.393398 -0.884282\n",
      "48    -0.942764     1.399225  0.909076     0.909939  -0.393398 -0.884282\n",
      "49    -1.488062     0.279845  0.258788    -1.429905  -0.393398  2.210705\n",
      "50     0.284157    -0.839535  0.909076    -0.563296  -0.393398 -0.884282\n",
      "51     0.197405     1.399225 -0.855991     0.303313  -0.393398 -0.884282\n"
     ]
    }
   ],
   "source": [
    "df6['BonusZ'] = (df6['BonusR'] - df6['BonusR'].agg('mean'))/df6['BonusR'].agg('std')\n",
    "df6['DustFactorZ'] = (df6['DustFactor'] - df6['DustFactor'].agg('mean')) / df6['DustFactor'].agg('std')\n",
    "df6['VotesZ'] = (df6['Votes'] - df6['Votes'].agg('mean')) / df6['Votes'].agg('std')\n",
    "df6['TrustScoreZ'] = (df6['TrustScore'] - df6['TrustScore'].agg('mean')) / df6['TrustScore'].agg('std')\n",
    "df6['SBWinnerZ'] = (df6['SBWinner'] - df6['SBWinner'].agg('mean')) / df6['SBWinner'].agg('std')\n",
    "df6['ExpZ'] = (df6['Experience'] - df6['Experience'].agg('mean')) / df6['Experience'].agg('std')\n",
    "\n",
    "dfx=df6[['BonusZ', 'DustFactorZ', 'VotesZ', 'TrustScoreZ', 'SBWinnerZ', 'ExpZ']]\n",
    "print(dfx)"
   ]
  },
  {
   "cell_type": "code",
   "execution_count": 65,
   "id": "7ee9c8d6",
   "metadata": {},
   "outputs": [
    {
     "name": "stdout",
     "output_type": "stream",
     "text": [
      "BonusZ         4.440892e-16\n",
      "DustFactorZ    0.000000e+00\n",
      "VotesZ         6.661338e-16\n",
      "TrustScoreZ    5.551115e-17\n",
      "SBWinnerZ      5.551115e-16\n",
      "ExpZ           8.881784e-16\n",
      "dtype: float64\n"
     ]
    }
   ],
   "source": [
    "print(dfx.agg('sum'))"
   ]
  },
  {
   "cell_type": "code",
   "execution_count": 70,
   "id": "52857c1f",
   "metadata": {},
   "outputs": [
    {
     "name": "stdout",
     "output_type": "stream",
     "text": [
      "         BonusZ  DustFactorZ    VotesZ  TrustScoreZ  SBWinnerZ      ExpZ  \\\n",
      "EmpID                                                                      \n",
      "38     0.693131    -0.839535 -0.577296     1.299913  -0.393398  0.663212   \n",
      "39     1.845693    -0.839535 -0.763093    -1.169922   2.360387  0.663212   \n",
      "40     1.089711    -0.279845 -0.112805    -0.823278  -0.393398 -0.884282   \n",
      "41    -0.100030    -0.279845 -0.855991     1.473235  -0.393398  0.663212   \n",
      "42     0.011508    -0.839535 -0.855991    -0.779948  -0.393398 -0.884282   \n",
      "43     0.209798    -0.839535 -0.484398     1.386574   2.360387  0.663212   \n",
      "44     1.089711     0.839535 -0.391500     0.693287  -0.393398  0.663212   \n",
      "45    -0.298321    -0.839535  1.466466    -0.043330  -0.393398  0.663212   \n",
      "46    -1.215413     1.958915  2.209652    -0.693287  -0.393398 -0.884282   \n",
      "47    -1.376524    -0.279845 -0.855991    -0.563296  -0.393398 -0.884282   \n",
      "48    -0.942764     1.399225  0.909076     0.909939  -0.393398 -0.884282   \n",
      "49    -1.488062     0.279845  0.258788    -1.429905  -0.393398  2.210705   \n",
      "50     0.284157    -0.839535  0.909076    -0.563296  -0.393398 -0.884282   \n",
      "51     0.197405     1.399225 -0.855991     0.303313  -0.393398 -0.884282   \n",
      "\n",
      "        TotScore  \n",
      "EmpID             \n",
      "38     11.108051  \n",
      "39      5.225522  \n",
      "40    -11.375553  \n",
      "41      8.583245  \n",
      "42    -25.498885  \n",
      "43     17.812986  \n",
      "44     18.330452  \n",
      "45      8.719728  \n",
      "46      3.284632  \n",
      "47    -29.295409  \n",
      "48      5.843856  \n",
      "49      1.559284  \n",
      "50     -9.774300  \n",
      "51     -4.523611  \n"
     ]
    },
    {
     "name": "stderr",
     "output_type": "stream",
     "text": [
      "C:\\Users\\morga\\AppData\\Local\\Temp\\ipykernel_8412\\1904073903.py:1: SettingWithCopyWarning: \n",
      "A value is trying to be set on a copy of a slice from a DataFrame.\n",
      "Try using .loc[row_indexer,col_indexer] = value instead\n",
      "\n",
      "See the caveats in the documentation: https://pandas.pydata.org/pandas-docs/stable/user_guide/indexing.html#returning-a-view-versus-a-copy\n",
      "  dfx['TotScore'] = (wtBonus * dfx['BonusZ']) + (wtDust * dfx['DustFactorZ']) + (wtLiked * dfx['VotesZ']) + (wtTrust * dfx['TrustScoreZ']) + (wtSoftBall * dfx['SBWinnerZ']) + (wtExp * dfx['ExpZ'])\n"
     ]
    }
   ],
   "source": [
    "dfx['TotScore'] = (wtBonus * dfx['BonusZ']) + (wtDust * dfx['DustFactorZ']) + (wtLiked * dfx['VotesZ']) + (wtTrust * dfx['TrustScoreZ']) + (wtSoftBall * dfx['SBWinnerZ']) + (wtExp * dfx['ExpZ'])\n",
    "print(dfx)\n",
    "\n",
    "\n",
    "\n"
   ]
  },
  {
   "cell_type": "code",
   "execution_count": 71,
   "id": "319fdebc",
   "metadata": {},
   "outputs": [
    {
     "name": "stdout",
     "output_type": "stream",
     "text": [
      "        TotScore\n",
      "EmpID           \n",
      "38     11.108051\n",
      "39      5.225522\n",
      "40    -11.375553\n",
      "41      8.583245\n",
      "42    -25.498885\n",
      "43     17.812986\n",
      "44     18.330452\n",
      "45      8.719728\n",
      "46      3.284632\n",
      "47    -29.295409\n",
      "48      5.843856\n",
      "49      1.559284\n",
      "50     -9.774300\n",
      "51     -4.523611\n"
     ]
    }
   ],
   "source": [
    "dfcool = dfx[['TotScore']]\n",
    "print(dfcool)"
   ]
  },
  {
   "cell_type": "code",
   "execution_count": 72,
   "id": "e929a692",
   "metadata": {},
   "outputs": [],
   "source": [
    "dfcool.to_csv('TotScore.csv')"
   ]
  },
  {
   "cell_type": "code",
   "execution_count": 73,
   "id": "c49abe87",
   "metadata": {},
   "outputs": [],
   "source": [
    "df6.to_csv('rax.csv')"
   ]
  },
  {
   "cell_type": "code",
   "execution_count": 75,
   "id": "882bf696",
   "metadata": {},
   "outputs": [],
   "source": [
    "dfx.to_csv('TotScore2.csv')"
   ]
  },
  {
   "cell_type": "code",
   "execution_count": null,
   "id": "397702d4",
   "metadata": {},
   "outputs": [],
   "source": []
  }
 ],
 "metadata": {
  "kernelspec": {
   "display_name": "Python 3 (ipykernel)",
   "language": "python",
   "name": "python3"
  },
  "language_info": {
   "codemirror_mode": {
    "name": "ipython",
    "version": 3
   },
   "file_extension": ".py",
   "mimetype": "text/x-python",
   "name": "python",
   "nbconvert_exporter": "python",
   "pygments_lexer": "ipython3",
   "version": "3.9.12"
  }
 },
 "nbformat": 4,
 "nbformat_minor": 5
}
