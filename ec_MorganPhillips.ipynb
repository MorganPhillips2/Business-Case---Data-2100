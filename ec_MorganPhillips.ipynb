{
 "cells": [
  {
   "cell_type": "code",
   "execution_count": 18,
   "id": "576dfc0e",
   "metadata": {},
   "outputs": [],
   "source": [
    "#Morgan Phillips\n",
    "\n",
    "\n",
    "FarmBunny = 4300000\n",
    "RapidBunny= 5100000\n",
    "BunnyKing = 4500000\n",
    "CozyCony = 12700000"
   ]
  },
  {
   "cell_type": "code",
   "execution_count": 36,
   "id": "3b859f86",
   "metadata": {},
   "outputs": [
    {
     "name": "stdout",
     "output_type": "stream",
     "text": [
      "Fin Expected Cost: $6570000.0\n",
      "Snorkel Expected Cost: $7160000.0\n",
      "Face Mask Expected Cost: $5550000.0\n"
     ]
    }
   ],
   "source": [
    "FinEC = (FarmBunny * .5) + (RapidBunny * .2) + (BunnyKing * .05) + (CozyCony * .25)\n",
    "print(\"Fin Expected Cost: $%s\" %(FinEC))\n",
    "SnorkelEC = (FarmBunny * .05) + (RapidBunny * .35) + (BunnyKing * .3) + (CozyCony * .3)\n",
    "print(\"Snorkel Expected Cost: $%s\" %(SnorkelEC))\n",
    "FaceMaskEC = (FarmBunny * .05) + (RapidBunny * .4) + (BunnyKing * .45) + (CozyCony * .1)\n",
    "print(\"Face Mask Expected Cost: $%s\" %(FaceMaskEC))\n"
   ]
  },
  {
   "cell_type": "code",
   "execution_count": null,
   "id": "c72bee2c",
   "metadata": {},
   "outputs": [],
   "source": []
  }
 ],
 "metadata": {
  "kernelspec": {
   "display_name": "Python 3 (ipykernel)",
   "language": "python",
   "name": "python3"
  },
  "language_info": {
   "codemirror_mode": {
    "name": "ipython",
    "version": 3
   },
   "file_extension": ".py",
   "mimetype": "text/x-python",
   "name": "python",
   "nbconvert_exporter": "python",
   "pygments_lexer": "ipython3",
   "version": "3.9.12"
  }
 },
 "nbformat": 4,
 "nbformat_minor": 5
}
